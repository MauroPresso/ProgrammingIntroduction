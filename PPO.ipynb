{
  "nbformat": 4,
  "nbformat_minor": 0,
  "metadata": {
    "colab": {
      "provenance": []
    },
    "kernelspec": {
      "name": "python3",
      "display_name": "Python 3"
    },
    "language_info": {
      "name": "python"
    }
  },
  "cells": [
    {
      "cell_type": "markdown",
      "source": [
        "# **PROGRAMACIÓN ORIENTADO A OBJETOS**"
      ],
      "metadata": {
        "id": "DGrue2_K4D7b"
      }
    },
    {
      "cell_type": "markdown",
      "source": [
        "Podemos definir una clase vagamente como una Plantilla o modelo para crear a partir de ella ciertos Objetos. Esta plantilla es la que contiene la información; características y capacidades que tendrá el objeto que sea creado a partir de ella.\n",
        "\n",
        "Así a su vez los objetos creados a partir de ella estarán agrupados en esa misma clase.\n",
        "\n",
        "Ejemplito: Imagina que tienes una regla de esas con moldes para crear figuras geométricas perfectas. Pues algo así seria una clase; podes crear esa regla y definir en ella las características de cada figura que seria un objeto.\n",
        "\n",
        "Crear un objeto a partir de una clase se denomina instanciar.\n",
        "Entonces estos atributos pueden llamarse las características que nosotros definimos para ese objeto. Y métodos las tareas que son capaces de realizar!\n",
        "\n",
        "Class Nombredelaclase (object): #Declaramos la clase nuestra\n",
        "\n",
        "      def  __init__ (self, parámetros): #Constructor de la clase\n",
        "\n",
        "      #Declaración de atributos\n",
        "\n",
        "\n",
        "# El método constructor de las clases en Python (__init__)\n",
        "\n",
        "Si hablamos de métodos de una clase puede existir diferentes tipos de ellos. Pero el mas importante es el método constructor; el cual dicho nombre hace referencia a inicializar los atributos del objeto creado a partir  de la clase que lo posea. Por supuesto no es necesario que este método exista dentro de una clase para que la clase exista. Pero si es necesario para indicarle al interprete de Python que cuando se Instancia un objeto a dicha clase debe asignarle los argumentos que nosotros le damos al momento de la instancia. (inicialización de atributos)\n",
        "\n"
      ],
      "metadata": {
        "id": "THMvPnS79k_J"
      }
    },
    {
      "cell_type": "markdown",
      "source": [
        "# Método INIT\n",
        "\n",
        "Este método se escribe «__init__» y yo para recordarlo lo suelo asimilar con «inicializar». Una clase que posea este método creara el objeto con los «argumentos» para los atributos que se pasen al momento de la instancia.\n",
        "El método __init__ NO RETORNA NINGÚN DATO Y ES OPCIONAL. Cuando decimos que no retorna ningún dato significa que a diferencia de otros métodos este no puede retornar valores luego de ejecutado.\n",
        "Este método es llamado automáticamente al instanciar un objeto a la clase que tenga el constructor por lo que su uso es muy común y practico.\n",
        "\n",
        "El método constructor permitirá asignar atributos cada vez que creemos un objeto a partir de esa clase haciéndolo obligatorio."
      ],
      "metadata": {
        "id": "iygMThUP_MwB"
      }
    },
    {
      "cell_type": "code",
      "source": [
        "## PRIMER EJERCICIO CREAR LA CLASE ALUMNO\n",
        "class Alumnos():\n",
        "    #definimos los atributos (características)\n",
        "    #Id:estructura de base de datos. Clave principal de BDD\n",
        "    #Este método se escribe “__init__”\n",
        "    # y para recordarlo lo puede asociar con “inicializar”.\n",
        "    #El self hace referencia al nombre del objeto en el que se encuentra escrito\n",
        "    #SELF representa al objeto que se crea desde el modelo, desde la clase\n",
        "\n",
        "    def _init_(self, id=0,nombre=\"\",domicilio=\"\",dni=0,edad=0):\n",
        "        self.id=id\n",
        "        self.nombre=nombre\n",
        "        self.domicilio=domicilio\n",
        "        self.dni=dni\n",
        "        self.edad=edad\n"
      ],
      "metadata": {
        "id": "pfaUHF7i9FUM"
      },
      "execution_count": null,
      "outputs": []
    },
    {
      "cell_type": "markdown",
      "source": [
        "EJERCICIO 1a)\n",
        "Crear la clase humano que contenga edad y nombre\n"
      ],
      "metadata": {
        "id": "qfbSbZbd2d9j"
      }
    },
    {
      "cell_type": "code",
      "source": [
        "## creamos la clase humano\n",
        "\n"
      ],
      "metadata": {
        "id": "KHcaj6JO2ZBN"
      },
      "execution_count": null,
      "outputs": []
    },
    {
      "cell_type": "markdown",
      "source": [
        "REPASEMOS\n",
        "Clase: Plantilla o modelo a partir de la cual podemos crear objetos y donde se determinan los atributos (características) y métodos (acciones realizables) que tendrán.\n",
        "\n",
        "Objeto: Normalmente creado a partir de una clase son entidades que almacenan información en forma de argumento para atributos y realizan acciones organizadas a través de métodos que permiten cambiar atributos o estados del objeto o de otros objetos de la clase.\n",
        "\n",
        "Los atributos: Son variables de diferentes tipos (Entero; Texto; Booleanos) que pueden tener valores por defecto o le podrán ser asignadas al momento de la Instancia de un objeto determinando sus características y estado.\n",
        "\n",
        "Los métodos: Son funciones; acciones realizables por el objeto que permiten cambiar sus atributos o el de otros objetos de la clase permitiendo un cambio de estado del objeto; a menudo requiriendo «argumentos (valores)» para determinados «parámetros (nombres de variables establecidas en funciones o rutinas).\n",
        "\n",
        "Instancia: Palabra que refiere a la creación de un objeto partiendo de una clase. Durante la instancia son asignados los valores iniciales para los atributos.\n",
        "\n"
      ],
      "metadata": {
        "id": "Zi9Ugx_336gF"
      }
    },
    {
      "cell_type": "markdown",
      "source": [
        "EJERCICIO 1b)\n",
        "Para este ejemplo usaremos el mismo código anterior. En el código anterior (COPIAR Y PEGAR), EJERCICIO 1a) ya teníamos dos atributos. Edad y Nombre; ahora vamos a agregar un tercer atributo «Ocupacion»"
      ],
      "metadata": {
        "id": "uF2nZjA08n5V"
      }
    },
    {
      "cell_type": "code",
      "source": [
        "## Resolución ejercicio 1B)\n",
        "\n",
        "\n",
        "\n"
      ],
      "metadata": {
        "id": "1gZYAjmo842k"
      },
      "execution_count": null,
      "outputs": []
    },
    {
      "cell_type": "markdown",
      "source": [
        "# Añadiendo un nuevo método de instancia\n",
        "Ya hablamos del método constructor. Ahora vamos a hablar de los métods\n",
        "\n",
        "Entonces en nuestro código anterior yo quisiera agregar un método para retornar el valor de cada argumento de mi objeto Persona1. Y vemos que al ejecutar....NO HACE NADA!. Si ejecutas el código en consola no obtienes error de sintaxis pero tampoco obtienes ninguna salida!.\n",
        " Vamos a crear un método de clase que al ejecutarlo nos devuelva toda la información de nuestro objeto.\n",
        "\n",
        "Para crear un método lo hacemos a través de la palabra reservada def (al igual que las funciones o como la utilizamos para crear nuestro método constructor). Seguido a ella el nombre del método y luego entre paréntesis los parámetros; finalmente dos puntos «:» y continuamos debajo identando.\n"
      ],
      "metadata": {
        "id": "oyu1ilFP9hkk"
      }
    },
    {
      "cell_type": "code",
      "source": [
        "#Definición de la clase Alumnos\n",
        "#Con sus atributos y métodos\n",
        "#METODO AGREGAR\n",
        "class Alumnos():\n",
        "    #definimos los atributos (características)\n",
        "    #Id:estructura de base de datos. Clave principal de BDD\n",
        "    #Este método se escribe “__init__”\n",
        "    # y para recordarlo lo puede asociar con “inicializar”.\n",
        "    #El self hace referencia al nombre del objeto en el que se encuentra escrito\n",
        "    #SELF representa al objeto que se crea desde el modelo, desde la clase\n",
        "\n",
        "    def __init__(self, id=0,nombre=\"\",domicilio=\"\",dni=0,edad=0):\n",
        "        self.id=id\n",
        "        self.nombre=nombre\n",
        "        self.domicilio=domicilio\n",
        "        self.dni=dni\n",
        "        self.edad=edad\n",
        "    #def__init__ definimos los atributos de la clase\n",
        "    def Agregar(self):\n",
        "        print(\"Estamos agregando al alumno: \",self.nombre,self.domicilio)\n",
        "    def Eliminar(self):\n",
        "        print(\"Acabamos de eliminar al alumno: \",self.nombre,self.domicilio)\n",
        "\n",
        "Alumno1=Alumnos(0,\"Juan Perez\",\"Cipolletti\")\n",
        "Alumno2=Alumnos(1,\"Carlos García\",\"Neuquén\")\n",
        "Alumno3=Alumnos(2,\"Andrea Fernandez\",\"Gral Roca\")\n",
        "#ejecuto el método Agregar\n",
        "#Alumno1 está vinculado a todos los comportamientos\n",
        "#por qué? porque creamos una instancia en Alumnos1\n",
        "#que es una copia de la clase Alumnos\n",
        "Alumno1.Agregar()\n",
        "Alumno3.Agregar()\n",
        "Alumno2.Eliminar()\n"
      ],
      "metadata": {
        "id": "ki8S3qSk92or",
        "colab": {
          "base_uri": "https://localhost:8080/"
        },
        "outputId": "0ea801b8-0d87-4a61-d458-378f7a82ec11"
      },
      "execution_count": null,
      "outputs": [
        {
          "output_type": "stream",
          "name": "stdout",
          "text": [
            "Estamos agregando al alumno:  Juan Perez Cipolletti\n",
            "Estamos agregando al alumno:  Andrea Fernandez Gral Roca\n",
            "Acabamos de eliminar al alumno:  Carlos García Neuquén\n"
          ]
        }
      ]
    },
    {
      "cell_type": "markdown",
      "source": [
        "EJERCICIO 1C)\n",
        "Agregar el método presentar de manera tal que aparezca como se muestra a continuación\n",
        "\n",
        "*Hola soy Pedro, mi edad es 31 y mi ocupación es Desocupado*"
      ],
      "metadata": {
        "id": "7G-Hwarz9828"
      }
    },
    {
      "cell_type": "code",
      "source": [
        "#CODIGO EJERCICIO 1C)\n",
        "\n"
      ],
      "metadata": {
        "id": "Ko9GGk76-aA-"
      },
      "execution_count": null,
      "outputs": []
    },
    {
      "cell_type": "markdown",
      "source": [
        "EJERCICIO 1D) Agregar los metodo Agregar y eliminar. Crear 3 objetos\n"
      ],
      "metadata": {
        "id": "KFpEp30OkT8p"
      }
    },
    {
      "cell_type": "code",
      "source": [
        "\n"
      ],
      "metadata": {
        "id": "pS-lzM0lkchG"
      },
      "execution_count": null,
      "outputs": []
    },
    {
      "cell_type": "markdown",
      "source": [
        "EJERCICIO 1E) Crear la clase computadora con atributos (4) y métodos (2).\n",
        "Instanciar 3 objetos\n",
        "Ejecutar los métodos\n"
      ],
      "metadata": {
        "id": "KNRvNFPtkem-"
      }
    },
    {
      "cell_type": "code",
      "source": [],
      "metadata": {
        "id": "pQTQupk4kv_x"
      },
      "execution_count": null,
      "outputs": []
    }
  ]
}